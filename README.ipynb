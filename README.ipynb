{
 "cells": [
  {
   "cell_type": "markdown",
   "id": "8ccc0644-8e7d-4a77-8734-ae903230531c",
   "metadata": {},
   "source": [
    "# Introduction\n",
    "\n",
    "This codebase contains everything you need to get started on the case study project. The instructions below will get you up and running on Vertex Pipelines."
   ]
  },
  {
   "cell_type": "markdown",
   "id": "92b882dc-83c6-4984-b359-4ea720f85b2c",
   "metadata": {},
   "source": [
    "## Inspect the codebase\n",
    "\n",
    "- `pipeline.py` - this file is your ML pipeline definition using the KFP syntax. We have provided a very simple \"Hello world\" pipeline for you to adapt.\n",
    "- `pipeline_components.py` - use this file to create any custom KFP components that you want to use in your pipeline, for example any model training code. You can also use the Google-provided components from the `google-cloud-pipeline-components` package\n",
    "- `run_pipeline.py` - when run (see the end of this notebook), this file will compile your pipeline definition to JSON (`pipeline.json`), and submit it to be run on Vertex Pipelines. You shouldn't need to change this file, but have a look through it to understand what's going on.\n",
    "- `variables.py` - this file contains the variables for you to change\n"
   ]
  },
  {
   "cell_type": "markdown",
   "id": "baec3b8c-4e54-4648-b603-c8b15d8c108a",
   "metadata": {},
   "source": [
    "## Update your variables\n",
    "\n",
    "In _variables.py_ update the variables for your project ID. For example, if your project is _dt-mlops-user-3-dev_, update the *VERTEX_SA_EMAIL* variable to _mlops-sa@dt-mlops-user-X-dev.iam.gserviceaccount.com_."
   ]
  },
  {
   "cell_type": "markdown",
   "id": "92892dd1-82c5-48d9-834e-f8f3f2fb0109",
   "metadata": {
    "tags": []
   },
   "source": [
    "## Install Dependencies"
   ]
  },
  {
   "cell_type": "code",
   "execution_count": null,
   "id": "34ed94b2-71d3-4052-86ef-24f2b9c15853",
   "metadata": {},
   "outputs": [],
   "source": [
    "!pip install --user -r requirements.txt"
   ]
  },
  {
   "cell_type": "markdown",
   "id": "f08e87d4-a2ff-4a54-a148-cdea63946751",
   "metadata": {},
   "source": [
    "## Compile and run the ML pipeline on Vertex"
   ]
  },
  {
   "cell_type": "code",
   "execution_count": null,
   "id": "39fbfa32-2ca6-4d72-b334-2d611cfd6b9f",
   "metadata": {},
   "outputs": [],
   "source": [
    "!python run_pipeline.py"
   ]
  }
 ],
 "metadata": {
  "kernelspec": {
   "display_name": "Python [conda env:root] * (Local)",
   "language": "python",
   "name": "local-conda-root-base"
  },
  "language_info": {
   "codemirror_mode": {
    "name": "ipython",
    "version": 3
   },
   "file_extension": ".py",
   "mimetype": "text/x-python",
   "name": "python",
   "nbconvert_exporter": "python",
   "pygments_lexer": "ipython3",
   "version": "3.7.12"
  }
 },
 "nbformat": 4,
 "nbformat_minor": 5
}
