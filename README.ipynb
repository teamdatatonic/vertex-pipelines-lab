{
 "cells": [
  {
   "cell_type": "markdown",
   "id": "8ccc0644-8e7d-4a77-8734-ae903230531c",
   "metadata": {},
   "source": [
    "# Introduction\n",
    "\n",
    "This codebase contains everything you need to get started on the case study project. The instructions below will get you up and running on Vertex Pipelines."
   ]
  },
  {
   "cell_type": "markdown",
   "id": "92892dd1-82c5-48d9-834e-f8f3f2fb0109",
   "metadata": {},
   "source": [
    "## Install Dependencies"
   ]
  },
  {
   "cell_type": "code",
   "execution_count": 20,
   "id": "34ed94b2-71d3-4052-86ef-24f2b9c15853",
   "metadata": {},
   "outputs": [
    {
     "name": "stdout",
     "output_type": "stream",
     "text": [
      "\u001b[33mWARNING: Ignoring invalid distribution -yping-extensions (/opt/conda/lib/python3.7/site-packages)\u001b[0m\u001b[33m\n",
      "\u001b[0m\u001b[33mWARNING: Ignoring invalid distribution - (/opt/conda/lib/python3.7/site-packages)\u001b[0m\u001b[33m\n",
      "\u001b[0m\u001b[33mWARNING: Ignoring invalid distribution -yping-extensions (/opt/conda/lib/python3.7/site-packages)\u001b[0m\u001b[33m\n",
      "\u001b[0m\u001b[33mWARNING: Ignoring invalid distribution - (/opt/conda/lib/python3.7/site-packages)\u001b[0m\u001b[33m\n",
      "\u001b[0m\u001b[33mWARNING: Ignoring invalid distribution -yping-extensions (/opt/conda/lib/python3.7/site-packages)\u001b[0m\u001b[33m\n",
      "\u001b[0m\u001b[33mWARNING: Ignoring invalid distribution - (/opt/conda/lib/python3.7/site-packages)\u001b[0m\u001b[33m\n",
      "\u001b[0m\u001b[33mWARNING: Ignoring invalid distribution -yping-extensions (/opt/conda/lib/python3.7/site-packages)\u001b[0m\u001b[33m\n",
      "\u001b[0m\u001b[33mWARNING: Ignoring invalid distribution - (/opt/conda/lib/python3.7/site-packages)\u001b[0m\u001b[33m\n",
      "\u001b[0m\u001b[33mWARNING: Ignoring invalid distribution -yping-extensions (/opt/conda/lib/python3.7/site-packages)\u001b[0m\u001b[33m\n",
      "\u001b[0m\u001b[33mWARNING: Ignoring invalid distribution - (/opt/conda/lib/python3.7/site-packages)\u001b[0m\u001b[33m\n",
      "\u001b[0m"
     ]
    }
   ],
   "source": [
    "!pip install --user -r requirements.txt"
   ]
  },
  {
   "cell_type": "markdown",
   "id": "92b882dc-83c6-4984-b359-4ea720f85b2c",
   "metadata": {},
   "source": [
    "## Inspect the codebase TODO\n",
    "\n",
    "- `pipeline.py` - this file is your ML pipeline definition using the KFP syntax. We have provided a very simple \"Hello world\" pipeline for you to adapt.\n",
    "- `pipeline_components.py` - use this file to create any custom KFP components that you want to use in your pipeline, for example any model training code. You can also use the Google-provided components from the `google-cloud-pipeline-components` package\n",
    "- `run_pipeline.py` - when run (see the end of this notebook), this file will compile your pipeline definition to JSON, and submit it to be run on Vertex Pipelines. You shouldn't need to change this file, but have a look through it to understand what's going on.\n",
    "- `variables.py` - this file contains the variables for you to change\n"
   ]
  },
  {
   "cell_type": "code",
   "execution_count": null,
   "id": "0b3bbcb5-015b-4d25-87f4-2bd02abde9bb",
   "metadata": {},
   "outputs": [],
   "source": []
  },
  {
   "cell_type": "markdown",
   "id": "baec3b8c-4e54-4648-b603-c8b15d8c108a",
   "metadata": {},
   "source": [
    "## Update your variables\n",
    "\n",
    "In _variables.py_ update the variables for your project ID. For example, if your project is _dt-mlops-user-3-dev_, update the *VERTEX_SA_EMAIL* variable to _mlops-sa@dt-mlops-user-X-dev.iam.gserviceaccount.com_."
   ]
  },
  {
   "cell_type": "markdown",
   "id": "f08e87d4-a2ff-4a54-a148-cdea63946751",
   "metadata": {},
   "source": [
    "## Compile and run the ML pipeline on Vertex"
   ]
  },
  {
   "cell_type": "code",
   "execution_count": 19,
   "id": "39fbfa32-2ca6-4d72-b334-2d611cfd6b9f",
   "metadata": {},
   "outputs": [
    {
     "name": "stdout",
     "output_type": "stream",
     "text": [
      "/opt/conda/lib/python3.7/site-packages/pkg_resources/__init__.py:119: PkgResourcesDeprecationWarning: ping-extensions is an invalid version and will not be supported in a future release\n",
      "  PkgResourcesDeprecationWarning,\n",
      "/home/jupyter/.local/lib/python3.7/site-packages/kfp/v2/compiler/compiler.py:1281: FutureWarning: APIs imported from the v1 namespace (e.g. kfp.dsl, kfp.components, etc) will not be supported by the v2 compiler since v2.0.0\n",
      "  category=FutureWarning,\n",
      "INFO:google.cloud.aiplatform.pipeline_jobs:Creating PipelineJob\n",
      "INFO:google.cloud.aiplatform.pipeline_jobs:PipelineJob created. Resource name: projects/805011877165/locations/europe-west1/pipelineJobs/my-pipeline-20220407094238\n",
      "INFO:google.cloud.aiplatform.pipeline_jobs:To use this PipelineJob in another session:\n",
      "INFO:google.cloud.aiplatform.pipeline_jobs:pipeline_job = aiplatform.PipelineJob.get('projects/805011877165/locations/europe-west1/pipelineJobs/my-pipeline-20220407094238')\n",
      "INFO:google.cloud.aiplatform.pipeline_jobs:View Pipeline Job:\n",
      "https://console.cloud.google.com/vertex-ai/locations/europe-west1/pipelines/runs/my-pipeline-20220407094238?project=805011877165\n"
     ]
    }
   ],
   "source": [
    "!python run_pipeline.py"
   ]
  },
  {
   "cell_type": "code",
   "execution_count": null,
   "id": "99404ceb-6c02-46b1-b58e-9b4e0a23b429",
   "metadata": {},
   "outputs": [],
   "source": []
  }
 ],
 "metadata": {
  "kernelspec": {
   "display_name": "Python [conda env:root] * (Local)",
   "language": "python",
   "name": "local-conda-root-base"
  },
  "language_info": {
   "codemirror_mode": {
    "name": "ipython",
    "version": 3
   },
   "file_extension": ".py",
   "mimetype": "text/x-python",
   "name": "python",
   "nbconvert_exporter": "python",
   "pygments_lexer": "ipython3",
   "version": "3.7.12"
  }
 },
 "nbformat": 4,
 "nbformat_minor": 5
}
